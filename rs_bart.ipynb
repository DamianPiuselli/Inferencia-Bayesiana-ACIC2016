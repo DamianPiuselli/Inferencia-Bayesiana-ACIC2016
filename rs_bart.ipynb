{
 "cells": [
  {
   "cell_type": "code",
   "execution_count": 226,
   "metadata": {},
   "outputs": [],
   "source": [
    "import pandas as pd\n",
    "import pymc as pm\n",
    "import numpy as np\n",
    "import arviz as az\n",
    "import pymc_bart as pmb\n",
    "import matplotlib.pyplot as plt\n",
    "import seaborn as sns"
   ]
  },
  {
   "cell_type": "markdown",
   "metadata": {},
   "source": [
    "# Modelando la superficie de respuesta con pymc-bart\n"
   ]
  },
  {
   "cell_type": "code",
   "execution_count": 227,
   "metadata": {},
   "outputs": [
    {
     "name": "stdout",
     "output_type": "stream",
     "text": [
      "Número de covariables: 58\n",
      "Número de individuos: 4802\n"
     ]
    }
   ],
   "source": [
    "X = pd.read_csv(\"data/X.csv\")\n",
    "zy = pd.read_csv(\n",
    "    \"data/zy_2.csv\"\n",
    ")  # uso la condicion 2 de las 20 condiciones del concurso. Ground truths en zymu_1.csv\n",
    "\n",
    "z = zy[\"z\"].values  # tratamiento asignado\n",
    "y = zy[\"y\"].values  # observaciones\n",
    "\n",
    "num_covariates = X.shape[1]\n",
    "num_individuals = X.shape[0]\n",
    "print(f\"Número de covariables: {num_covariates}\")\n",
    "print(f\"Número de individuos: {num_individuals}\")"
   ]
  },
  {
   "cell_type": "code",
   "execution_count": 228,
   "metadata": {},
   "outputs": [
    {
     "data": {
      "text/plain": [
       "x_1       int64\n",
       "x_2      object\n",
       "x_3     float64\n",
       "x_4     float64\n",
       "x_5       int64\n",
       "x_6       int64\n",
       "x_7       int64\n",
       "x_8       int64\n",
       "x_9       int64\n",
       "x_10      int64\n",
       "x_11      int64\n",
       "x_12      int64\n",
       "x_13      int64\n",
       "x_14      int64\n",
       "x_15      int64\n",
       "x_16      int64\n",
       "x_17      int64\n",
       "x_18      int64\n",
       "x_19      int64\n",
       "x_20      int64\n",
       "x_21     object\n",
       "x_22      int64\n",
       "x_23      int64\n",
       "x_24     object\n",
       "x_25      int64\n",
       "x_26      int64\n",
       "x_27      int64\n",
       "x_28      int64\n",
       "x_29      int64\n",
       "x_30      int64\n",
       "x_31      int64\n",
       "x_32      int64\n",
       "x_33      int64\n",
       "x_34      int64\n",
       "x_35      int64\n",
       "x_36      int64\n",
       "x_37      int64\n",
       "x_38      int64\n",
       "x_39      int64\n",
       "x_40      int64\n",
       "x_41      int64\n",
       "x_42      int64\n",
       "x_43      int64\n",
       "x_44      int64\n",
       "x_45      int64\n",
       "x_46      int64\n",
       "x_47      int64\n",
       "x_48      int64\n",
       "x_49      int64\n",
       "x_50      int64\n",
       "x_51      int64\n",
       "x_52      int64\n",
       "x_53      int64\n",
       "x_54      int64\n",
       "x_55      int64\n",
       "x_56      int64\n",
       "x_57      int64\n",
       "x_58      int64\n",
       "dtype: object"
      ]
     },
     "execution_count": 228,
     "metadata": {},
     "output_type": "execute_result"
    }
   ],
   "source": [
    "X.dtypes"
   ]
  },
  {
   "cell_type": "markdown",
   "metadata": {},
   "source": [
    "Preprocesamiento:\n",
    "\n",
    "- one-hot encoding de las variables categoricas\n",
    "- castear valores numericos a float32\n"
   ]
  },
  {
   "cell_type": "code",
   "execution_count": 229,
   "metadata": {},
   "outputs": [
    {
     "data": {
      "text/html": [
       "<div>\n",
       "<style scoped>\n",
       "    .dataframe tbody tr th:only-of-type {\n",
       "        vertical-align: middle;\n",
       "    }\n",
       "\n",
       "    .dataframe tbody tr th {\n",
       "        vertical-align: top;\n",
       "    }\n",
       "\n",
       "    .dataframe thead th {\n",
       "        text-align: right;\n",
       "    }\n",
       "</style>\n",
       "<table border=\"1\" class=\"dataframe\">\n",
       "  <thead>\n",
       "    <tr style=\"text-align: right;\">\n",
       "      <th></th>\n",
       "      <th>x_1</th>\n",
       "      <th>x_2</th>\n",
       "      <th>x_3</th>\n",
       "      <th>x_4</th>\n",
       "      <th>x_5</th>\n",
       "      <th>x_6</th>\n",
       "      <th>x_7</th>\n",
       "      <th>x_8</th>\n",
       "      <th>x_9</th>\n",
       "      <th>x_10</th>\n",
       "      <th>...</th>\n",
       "      <th>x_49</th>\n",
       "      <th>x_50</th>\n",
       "      <th>x_51</th>\n",
       "      <th>x_52</th>\n",
       "      <th>x_53</th>\n",
       "      <th>x_54</th>\n",
       "      <th>x_55</th>\n",
       "      <th>x_56</th>\n",
       "      <th>x_57</th>\n",
       "      <th>x_58</th>\n",
       "    </tr>\n",
       "  </thead>\n",
       "  <tbody>\n",
       "    <tr>\n",
       "      <th>0</th>\n",
       "      <td>29</td>\n",
       "      <td>C</td>\n",
       "      <td>1.0</td>\n",
       "      <td>7.0</td>\n",
       "      <td>60</td>\n",
       "      <td>85</td>\n",
       "      <td>0</td>\n",
       "      <td>0</td>\n",
       "      <td>1</td>\n",
       "      <td>0</td>\n",
       "      <td>...</td>\n",
       "      <td>0</td>\n",
       "      <td>0</td>\n",
       "      <td>0</td>\n",
       "      <td>0</td>\n",
       "      <td>0</td>\n",
       "      <td>0</td>\n",
       "      <td>0</td>\n",
       "      <td>0</td>\n",
       "      <td>45</td>\n",
       "      <td>39</td>\n",
       "    </tr>\n",
       "    <tr>\n",
       "      <th>1</th>\n",
       "      <td>27</td>\n",
       "      <td>C</td>\n",
       "      <td>0.0</td>\n",
       "      <td>0.0</td>\n",
       "      <td>64</td>\n",
       "      <td>178</td>\n",
       "      <td>0</td>\n",
       "      <td>0</td>\n",
       "      <td>0</td>\n",
       "      <td>0</td>\n",
       "      <td>...</td>\n",
       "      <td>0</td>\n",
       "      <td>0</td>\n",
       "      <td>0</td>\n",
       "      <td>0</td>\n",
       "      <td>0</td>\n",
       "      <td>0</td>\n",
       "      <td>0</td>\n",
       "      <td>0</td>\n",
       "      <td>46</td>\n",
       "      <td>42</td>\n",
       "    </tr>\n",
       "    <tr>\n",
       "      <th>2</th>\n",
       "      <td>27</td>\n",
       "      <td>C</td>\n",
       "      <td>0.0</td>\n",
       "      <td>0.0</td>\n",
       "      <td>60</td>\n",
       "      <td>102</td>\n",
       "      <td>0</td>\n",
       "      <td>0</td>\n",
       "      <td>0</td>\n",
       "      <td>0</td>\n",
       "      <td>...</td>\n",
       "      <td>1</td>\n",
       "      <td>0</td>\n",
       "      <td>0</td>\n",
       "      <td>0</td>\n",
       "      <td>0</td>\n",
       "      <td>0</td>\n",
       "      <td>0</td>\n",
       "      <td>0</td>\n",
       "      <td>45</td>\n",
       "      <td>40</td>\n",
       "    </tr>\n",
       "    <tr>\n",
       "      <th>3</th>\n",
       "      <td>37</td>\n",
       "      <td>C</td>\n",
       "      <td>0.0</td>\n",
       "      <td>0.0</td>\n",
       "      <td>65</td>\n",
       "      <td>174</td>\n",
       "      <td>0</td>\n",
       "      <td>0</td>\n",
       "      <td>0</td>\n",
       "      <td>0</td>\n",
       "      <td>...</td>\n",
       "      <td>0</td>\n",
       "      <td>0</td>\n",
       "      <td>0</td>\n",
       "      <td>0</td>\n",
       "      <td>0</td>\n",
       "      <td>0</td>\n",
       "      <td>0</td>\n",
       "      <td>0</td>\n",
       "      <td>47</td>\n",
       "      <td>40</td>\n",
       "    </tr>\n",
       "    <tr>\n",
       "      <th>4</th>\n",
       "      <td>24</td>\n",
       "      <td>C</td>\n",
       "      <td>20.0</td>\n",
       "      <td>14.0</td>\n",
       "      <td>63</td>\n",
       "      <td>129</td>\n",
       "      <td>0</td>\n",
       "      <td>0</td>\n",
       "      <td>0</td>\n",
       "      <td>0</td>\n",
       "      <td>...</td>\n",
       "      <td>2</td>\n",
       "      <td>0</td>\n",
       "      <td>0</td>\n",
       "      <td>0</td>\n",
       "      <td>0</td>\n",
       "      <td>0</td>\n",
       "      <td>0</td>\n",
       "      <td>0</td>\n",
       "      <td>47</td>\n",
       "      <td>43</td>\n",
       "    </tr>\n",
       "  </tbody>\n",
       "</table>\n",
       "<p>5 rows × 58 columns</p>\n",
       "</div>"
      ],
      "text/plain": [
       "   x_1 x_2   x_3   x_4  x_5  x_6  x_7  x_8  x_9  x_10  ...  x_49  x_50  x_51  \\\n",
       "0   29   C   1.0   7.0   60   85    0    0    1     0  ...     0     0     0   \n",
       "1   27   C   0.0   0.0   64  178    0    0    0     0  ...     0     0     0   \n",
       "2   27   C   0.0   0.0   60  102    0    0    0     0  ...     1     0     0   \n",
       "3   37   C   0.0   0.0   65  174    0    0    0     0  ...     0     0     0   \n",
       "4   24   C  20.0  14.0   63  129    0    0    0     0  ...     2     0     0   \n",
       "\n",
       "   x_52  x_53  x_54  x_55  x_56  x_57  x_58  \n",
       "0     0     0     0     0     0    45    39  \n",
       "1     0     0     0     0     0    46    42  \n",
       "2     0     0     0     0     0    45    40  \n",
       "3     0     0     0     0     0    47    40  \n",
       "4     0     0     0     0     0    47    43  \n",
       "\n",
       "[5 rows x 58 columns]"
      ]
     },
     "execution_count": 229,
     "metadata": {},
     "output_type": "execute_result"
    }
   ],
   "source": [
    "X.head()"
   ]
  },
  {
   "cell_type": "code",
   "execution_count": 230,
   "metadata": {},
   "outputs": [
    {
     "data": {
      "text/plain": [
       "['x_2', 'x_21', 'x_24']"
      ]
     },
     "execution_count": 230,
     "metadata": {},
     "output_type": "execute_result"
    }
   ],
   "source": [
    "categorical_cols = X.select_dtypes(include=[\"object\"]).columns.tolist()\n",
    "categorical_cols"
   ]
  },
  {
   "cell_type": "code",
   "execution_count": 231,
   "metadata": {},
   "outputs": [
    {
     "data": {
      "text/html": [
       "<div>\n",
       "<style scoped>\n",
       "    .dataframe tbody tr th:only-of-type {\n",
       "        vertical-align: middle;\n",
       "    }\n",
       "\n",
       "    .dataframe tbody tr th {\n",
       "        vertical-align: top;\n",
       "    }\n",
       "\n",
       "    .dataframe thead th {\n",
       "        text-align: right;\n",
       "    }\n",
       "</style>\n",
       "<table border=\"1\" class=\"dataframe\">\n",
       "  <thead>\n",
       "    <tr style=\"text-align: right;\">\n",
       "      <th></th>\n",
       "      <th>x_1</th>\n",
       "      <th>x_3</th>\n",
       "      <th>x_4</th>\n",
       "      <th>x_5</th>\n",
       "      <th>x_6</th>\n",
       "      <th>x_7</th>\n",
       "      <th>x_8</th>\n",
       "      <th>x_9</th>\n",
       "      <th>x_10</th>\n",
       "      <th>x_11</th>\n",
       "      <th>...</th>\n",
       "      <th>x_21_K</th>\n",
       "      <th>x_21_L</th>\n",
       "      <th>x_21_M</th>\n",
       "      <th>x_21_N</th>\n",
       "      <th>x_21_O</th>\n",
       "      <th>x_21_P</th>\n",
       "      <th>x_24_B</th>\n",
       "      <th>x_24_C</th>\n",
       "      <th>x_24_D</th>\n",
       "      <th>x_24_E</th>\n",
       "    </tr>\n",
       "  </thead>\n",
       "  <tbody>\n",
       "    <tr>\n",
       "      <th>0</th>\n",
       "      <td>29.0</td>\n",
       "      <td>1.0</td>\n",
       "      <td>7.0</td>\n",
       "      <td>60.0</td>\n",
       "      <td>85.0</td>\n",
       "      <td>0.0</td>\n",
       "      <td>0.0</td>\n",
       "      <td>1.0</td>\n",
       "      <td>0.0</td>\n",
       "      <td>0.0</td>\n",
       "      <td>...</td>\n",
       "      <td>0.0</td>\n",
       "      <td>0.0</td>\n",
       "      <td>0.0</td>\n",
       "      <td>0.0</td>\n",
       "      <td>0.0</td>\n",
       "      <td>0.0</td>\n",
       "      <td>1.0</td>\n",
       "      <td>0.0</td>\n",
       "      <td>0.0</td>\n",
       "      <td>0.0</td>\n",
       "    </tr>\n",
       "    <tr>\n",
       "      <th>1</th>\n",
       "      <td>27.0</td>\n",
       "      <td>0.0</td>\n",
       "      <td>0.0</td>\n",
       "      <td>64.0</td>\n",
       "      <td>178.0</td>\n",
       "      <td>0.0</td>\n",
       "      <td>0.0</td>\n",
       "      <td>0.0</td>\n",
       "      <td>0.0</td>\n",
       "      <td>0.0</td>\n",
       "      <td>...</td>\n",
       "      <td>0.0</td>\n",
       "      <td>0.0</td>\n",
       "      <td>0.0</td>\n",
       "      <td>0.0</td>\n",
       "      <td>0.0</td>\n",
       "      <td>0.0</td>\n",
       "      <td>0.0</td>\n",
       "      <td>0.0</td>\n",
       "      <td>0.0</td>\n",
       "      <td>1.0</td>\n",
       "    </tr>\n",
       "    <tr>\n",
       "      <th>2</th>\n",
       "      <td>27.0</td>\n",
       "      <td>0.0</td>\n",
       "      <td>0.0</td>\n",
       "      <td>60.0</td>\n",
       "      <td>102.0</td>\n",
       "      <td>0.0</td>\n",
       "      <td>0.0</td>\n",
       "      <td>0.0</td>\n",
       "      <td>0.0</td>\n",
       "      <td>0.0</td>\n",
       "      <td>...</td>\n",
       "      <td>0.0</td>\n",
       "      <td>0.0</td>\n",
       "      <td>0.0</td>\n",
       "      <td>0.0</td>\n",
       "      <td>0.0</td>\n",
       "      <td>0.0</td>\n",
       "      <td>0.0</td>\n",
       "      <td>0.0</td>\n",
       "      <td>0.0</td>\n",
       "      <td>1.0</td>\n",
       "    </tr>\n",
       "    <tr>\n",
       "      <th>3</th>\n",
       "      <td>37.0</td>\n",
       "      <td>0.0</td>\n",
       "      <td>0.0</td>\n",
       "      <td>65.0</td>\n",
       "      <td>174.0</td>\n",
       "      <td>0.0</td>\n",
       "      <td>0.0</td>\n",
       "      <td>0.0</td>\n",
       "      <td>0.0</td>\n",
       "      <td>0.0</td>\n",
       "      <td>...</td>\n",
       "      <td>0.0</td>\n",
       "      <td>0.0</td>\n",
       "      <td>0.0</td>\n",
       "      <td>0.0</td>\n",
       "      <td>0.0</td>\n",
       "      <td>0.0</td>\n",
       "      <td>0.0</td>\n",
       "      <td>0.0</td>\n",
       "      <td>0.0</td>\n",
       "      <td>1.0</td>\n",
       "    </tr>\n",
       "    <tr>\n",
       "      <th>4</th>\n",
       "      <td>24.0</td>\n",
       "      <td>20.0</td>\n",
       "      <td>14.0</td>\n",
       "      <td>63.0</td>\n",
       "      <td>129.0</td>\n",
       "      <td>0.0</td>\n",
       "      <td>0.0</td>\n",
       "      <td>0.0</td>\n",
       "      <td>0.0</td>\n",
       "      <td>0.0</td>\n",
       "      <td>...</td>\n",
       "      <td>0.0</td>\n",
       "      <td>0.0</td>\n",
       "      <td>0.0</td>\n",
       "      <td>0.0</td>\n",
       "      <td>0.0</td>\n",
       "      <td>0.0</td>\n",
       "      <td>0.0</td>\n",
       "      <td>0.0</td>\n",
       "      <td>0.0</td>\n",
       "      <td>1.0</td>\n",
       "    </tr>\n",
       "  </tbody>\n",
       "</table>\n",
       "<p>5 rows × 79 columns</p>\n",
       "</div>"
      ],
      "text/plain": [
       "    x_1   x_3   x_4   x_5    x_6  x_7  x_8  x_9  x_10  x_11  ...  x_21_K  \\\n",
       "0  29.0   1.0   7.0  60.0   85.0  0.0  0.0  1.0   0.0   0.0  ...     0.0   \n",
       "1  27.0   0.0   0.0  64.0  178.0  0.0  0.0  0.0   0.0   0.0  ...     0.0   \n",
       "2  27.0   0.0   0.0  60.0  102.0  0.0  0.0  0.0   0.0   0.0  ...     0.0   \n",
       "3  37.0   0.0   0.0  65.0  174.0  0.0  0.0  0.0   0.0   0.0  ...     0.0   \n",
       "4  24.0  20.0  14.0  63.0  129.0  0.0  0.0  0.0   0.0   0.0  ...     0.0   \n",
       "\n",
       "   x_21_L  x_21_M  x_21_N  x_21_O  x_21_P  x_24_B  x_24_C  x_24_D  x_24_E  \n",
       "0     0.0     0.0     0.0     0.0     0.0     1.0     0.0     0.0     0.0  \n",
       "1     0.0     0.0     0.0     0.0     0.0     0.0     0.0     0.0     1.0  \n",
       "2     0.0     0.0     0.0     0.0     0.0     0.0     0.0     0.0     1.0  \n",
       "3     0.0     0.0     0.0     0.0     0.0     0.0     0.0     0.0     1.0  \n",
       "4     0.0     0.0     0.0     0.0     0.0     0.0     0.0     0.0     1.0  \n",
       "\n",
       "[5 rows x 79 columns]"
      ]
     },
     "execution_count": 231,
     "metadata": {},
     "output_type": "execute_result"
    }
   ],
   "source": [
    "X_encoded = pd.get_dummies(X, columns=categorical_cols, drop_first=True)\n",
    "X_encoded = X_encoded.astype(\"float32\")\n",
    "X_encoded.head()"
   ]
  },
  {
   "cell_type": "markdown",
   "metadata": {},
   "source": [
    "## Modelando la superficie de respuesta:\n",
    "\n",
    "$$Y_i = f(X_i, Z_i) + \\epsilon_i$$\n",
    "\n",
    "La respuesta $Y_i$ depende una superficie de respuesta desconocida $f$ de las variables $X_i$ y $Z_i$ y un error aleatorio $\\epsilon_i$. La superficie de respuesta es modelada con BART.\n",
    "\n",
    "En principio no tenemos mucha informacion, asumimos que $\\epsilon_i$ tiene distribucion normal con media cero y desvio estandard $\\sigma$ con una distribucion HalfNormal ancha.\n"
   ]
  },
  {
   "cell_type": "code",
   "execution_count": 232,
   "metadata": {},
   "outputs": [
    {
     "data": {
      "text/latex": [
       "$$\n",
       "            \\begin{array}{rcl}\n",
       "            \\text{mu} &\\sim & \\operatorname{BART}(\\text{<shared>},~\\text{<constant>},~50,~0.95,~2)\\\\\\text{sigma} &\\sim & \\operatorname{HalfNormal}(0,~4)\\\\\\text{y\\_obs} &\\sim & \\operatorname{Normal}(\\text{mu},~\\text{sigma})\n",
       "            \\end{array}\n",
       "            $$"
      ],
      "text/plain": [
       "   mu ~ BART(<shared>, <constant>, 50, 0.95, 2)\n",
       "sigma ~ HalfNormal(0, 4)\n",
       "y_obs ~ Normal(mu, sigma)"
      ]
     },
     "execution_count": 232,
     "metadata": {},
     "output_type": "execute_result"
    }
   ],
   "source": [
    "with pm.Model() as model1:\n",
    "    # covariables + Z\n",
    "    X_combined = pm.Data(\"X_combined\", X_encoded.assign(treatment=z))\n",
    "\n",
    "    # Define BART model\n",
    "    mu = pmb.BART(\"mu\", X_combined, Y=y)\n",
    "\n",
    "    # Likelihood\n",
    "    sigma = pm.HalfNormal(\"sigma\", sigma=4)\n",
    "    y_obs = pm.Normal(\"y_obs\", mu=mu, sigma=sigma, observed=y)\n",
    "\n",
    "model1"
   ]
  },
  {
   "cell_type": "code",
   "execution_count": 233,
   "metadata": {},
   "outputs": [
    {
     "data": {
      "image/svg+xml": [
       "<?xml version=\"1.0\" encoding=\"UTF-8\" standalone=\"no\"?>\n",
       "<!DOCTYPE svg PUBLIC \"-//W3C//DTD SVG 1.1//EN\"\n",
       " \"http://www.w3.org/Graphics/SVG/1.1/DTD/svg11.dtd\">\n",
       "<!-- Generated by graphviz version 2.47.1 (0)\n",
       " -->\n",
       "<!-- Pages: 1 -->\n",
       "<svg width=\"268pt\" height=\"349pt\"\n",
       " viewBox=\"0.00 0.00 268.28 348.91\" xmlns=\"http://www.w3.org/2000/svg\" xmlns:xlink=\"http://www.w3.org/1999/xlink\">\n",
       "<g id=\"graph0\" class=\"graph\" transform=\"scale(1 1) rotate(0) translate(4 344.91)\">\n",
       "<polygon fill=\"white\" stroke=\"transparent\" points=\"-4,4 -4,-344.91 264.28,-344.91 264.28,4 -4,4\"/>\n",
       "<g id=\"clust2\" class=\"cluster\">\n",
       "<title>cluster4802</title>\n",
       "<path fill=\"none\" stroke=\"black\" d=\"M20,-8C20,-8 124,-8 124,-8 130,-8 136,-14 136,-20 136,-20 136,-220.91 136,-220.91 136,-226.91 130,-232.91 124,-232.91 124,-232.91 20,-232.91 20,-232.91 14,-232.91 8,-226.91 8,-220.91 8,-220.91 8,-20 8,-20 8,-14 14,-8 20,-8\"/>\n",
       "<text text-anchor=\"middle\" x=\"114\" y=\"-15.8\" font-family=\"Times New Roman,serif\" font-size=\"14.00\">4802</text>\n",
       "</g>\n",
       "<g id=\"clust1\" class=\"cluster\">\n",
       "<title>cluster4802 x 80</title>\n",
       "<path fill=\"none\" stroke=\"black\" d=\"M31,-240.91C31,-240.91 113,-240.91 113,-240.91 119,-240.91 125,-246.91 125,-252.91 125,-252.91 125,-320.91 125,-320.91 125,-326.91 119,-332.91 113,-332.91 113,-332.91 31,-332.91 31,-332.91 25,-332.91 19,-326.91 19,-320.91 19,-320.91 19,-252.91 19,-252.91 19,-246.91 25,-240.91 31,-240.91\"/>\n",
       "<text text-anchor=\"middle\" x=\"89.5\" y=\"-248.71\" font-family=\"Times New Roman,serif\" font-size=\"14.00\">4802 x 80</text>\n",
       "</g>\n",
       "<!-- X_combined -->\n",
       "<g id=\"node1\" class=\"node\">\n",
       "<title>X_combined</title>\n",
       "<path fill=\"lightgrey\" stroke=\"black\" d=\"M104.5,-324.91C104.5,-324.91 39.5,-324.91 39.5,-324.91 33.5,-324.91 27.5,-318.91 27.5,-312.91 27.5,-312.91 27.5,-283.91 27.5,-283.91 27.5,-277.91 33.5,-271.91 39.5,-271.91 39.5,-271.91 104.5,-271.91 104.5,-271.91 110.5,-271.91 116.5,-277.91 116.5,-283.91 116.5,-283.91 116.5,-312.91 116.5,-312.91 116.5,-318.91 110.5,-324.91 104.5,-324.91\"/>\n",
       "<text text-anchor=\"middle\" x=\"72\" y=\"-309.71\" font-family=\"Times New Roman,serif\" font-size=\"14.00\">X_combined</text>\n",
       "<text text-anchor=\"middle\" x=\"72\" y=\"-294.71\" font-family=\"Times New Roman,serif\" font-size=\"14.00\">~</text>\n",
       "<text text-anchor=\"middle\" x=\"72\" y=\"-279.71\" font-family=\"Times New Roman,serif\" font-size=\"14.00\">Data</text>\n",
       "</g>\n",
       "<!-- mu -->\n",
       "<g id=\"node2\" class=\"node\">\n",
       "<title>mu</title>\n",
       "<ellipse fill=\"none\" stroke=\"black\" cx=\"72\" cy=\"-187.43\" rx=\"55.72\" ry=\"37.45\"/>\n",
       "<text text-anchor=\"middle\" x=\"72\" y=\"-198.73\" font-family=\"Times New Roman,serif\" font-size=\"14.00\">mu</text>\n",
       "<text text-anchor=\"middle\" x=\"72\" y=\"-183.73\" font-family=\"Times New Roman,serif\" font-size=\"14.00\">~</text>\n",
       "<text text-anchor=\"middle\" x=\"72\" y=\"-168.73\" font-family=\"Times New Roman,serif\" font-size=\"14.00\">BART_mu</text>\n",
       "</g>\n",
       "<!-- X_combined&#45;&gt;mu -->\n",
       "<g id=\"edge1\" class=\"edge\">\n",
       "<title>X_combined&#45;&gt;mu</title>\n",
       "<path fill=\"none\" stroke=\"black\" d=\"M72,-271.86C72,-260.95 72,-247.85 72,-235.31\"/>\n",
       "<polygon fill=\"black\" stroke=\"black\" points=\"75.5,-234.96 72,-224.96 68.5,-234.96 75.5,-234.96\"/>\n",
       "</g>\n",
       "<!-- y_obs -->\n",
       "<g id=\"node3\" class=\"node\">\n",
       "<title>y_obs</title>\n",
       "<ellipse fill=\"lightgrey\" stroke=\"black\" cx=\"79\" cy=\"-76.48\" rx=\"41.02\" ry=\"37.45\"/>\n",
       "<text text-anchor=\"middle\" x=\"79\" y=\"-87.78\" font-family=\"Times New Roman,serif\" font-size=\"14.00\">y_obs</text>\n",
       "<text text-anchor=\"middle\" x=\"79\" y=\"-72.78\" font-family=\"Times New Roman,serif\" font-size=\"14.00\">~</text>\n",
       "<text text-anchor=\"middle\" x=\"79\" y=\"-57.78\" font-family=\"Times New Roman,serif\" font-size=\"14.00\">Normal</text>\n",
       "</g>\n",
       "<!-- mu&#45;&gt;y_obs -->\n",
       "<g id=\"edge2\" class=\"edge\">\n",
       "<title>mu&#45;&gt;y_obs</title>\n",
       "<path fill=\"none\" stroke=\"black\" d=\"M74.35,-149.85C74.88,-141.67 75.44,-132.89 75.99,-124.37\"/>\n",
       "<polygon fill=\"black\" stroke=\"black\" points=\"79.5,-124.35 76.64,-114.15 72.51,-123.9 79.5,-124.35\"/>\n",
       "</g>\n",
       "<!-- sigma -->\n",
       "<g id=\"node4\" class=\"node\">\n",
       "<title>sigma</title>\n",
       "<ellipse fill=\"none\" stroke=\"black\" cx=\"203\" cy=\"-187.43\" rx=\"57.05\" ry=\"37.45\"/>\n",
       "<text text-anchor=\"middle\" x=\"203\" y=\"-198.73\" font-family=\"Times New Roman,serif\" font-size=\"14.00\">sigma</text>\n",
       "<text text-anchor=\"middle\" x=\"203\" y=\"-183.73\" font-family=\"Times New Roman,serif\" font-size=\"14.00\">~</text>\n",
       "<text text-anchor=\"middle\" x=\"203\" y=\"-168.73\" font-family=\"Times New Roman,serif\" font-size=\"14.00\">HalfNormal</text>\n",
       "</g>\n",
       "<!-- sigma&#45;&gt;y_obs -->\n",
       "<g id=\"edge3\" class=\"edge\">\n",
       "<title>sigma&#45;&gt;y_obs</title>\n",
       "<path fill=\"none\" stroke=\"black\" d=\"M169.44,-156.95C152.9,-142.41 132.9,-124.84 115.93,-109.92\"/>\n",
       "<polygon fill=\"black\" stroke=\"black\" points=\"118.18,-107.25 108.36,-103.27 113.56,-112.5 118.18,-107.25\"/>\n",
       "</g>\n",
       "</g>\n",
       "</svg>\n"
      ],
      "text/plain": [
       "<graphviz.graphs.Digraph at 0x2063a26b4d0>"
      ]
     },
     "execution_count": 233,
     "metadata": {},
     "output_type": "execute_result"
    }
   ],
   "source": [
    "pm.model_to_graphviz(model1)"
   ]
  },
  {
   "cell_type": "code",
   "execution_count": 234,
   "metadata": {},
   "outputs": [
    {
     "name": "stderr",
     "output_type": "stream",
     "text": [
      "Multiprocess sampling (4 chains in 4 jobs)\n",
      "CompoundStep\n",
      ">PGBART: [mu]\n",
      ">NUTS: [sigma]\n"
     ]
    },
    {
     "data": {
      "application/vnd.jupyter.widget-view+json": {
       "model_id": "00badc9968e145ad8a9e1f2efad9c380",
       "version_major": 2,
       "version_minor": 0
      },
      "text/plain": [
       "Output()"
      ]
     },
     "metadata": {},
     "output_type": "display_data"
    },
    {
     "data": {
      "text/html": [
       "<pre style=\"white-space:pre;overflow-x:auto;line-height:normal;font-family:Menlo,'DejaVu Sans Mono',consolas,'Courier New',monospace\"></pre>\n"
      ],
      "text/plain": []
     },
     "metadata": {},
     "output_type": "display_data"
    },
    {
     "name": "stderr",
     "output_type": "stream",
     "text": [
      "Sampling 4 chains for 1_000 tune and 1_000 draw iterations (4_000 + 4_000 draws total) took 37 seconds.\n",
      "The rhat statistic is larger than 1.01 for some parameters. This indicates problems during sampling. See https://arxiv.org/abs/1903.08008 for details\n",
      "The effective sample size per chain is smaller than 100 for some parameters.  A higher number is needed for reliable rhat and ess computation. See https://arxiv.org/abs/1903.08008 for details\n"
     ]
    }
   ],
   "source": [
    "with model1:\n",
    "    trace = pm.sample()"
   ]
  },
  {
   "cell_type": "code",
   "execution_count": 235,
   "metadata": {},
   "outputs": [
    {
     "data": {
      "image/png": "[encoded data removed]",
      "text/plain": [
       "<Figure size 1200x200 with 2 Axes>"
      ]
     },
     "metadata": {},
     "output_type": "display_data"
    }
   ],
   "source": [
    "az.plot_trace(trace, var_names=[\"sigma\"])\n",
    "plt.tight_layout()"
   ]
  },
  {
   "cell_type": "code",
   "execution_count": 236,
   "metadata": {},
   "outputs": [
    {
     "name": "stderr",
     "output_type": "stream",
     "text": [
      "c:\\Users\\Damian\\miniconda3\\Lib\\site-packages\\arviz\\plots\\ecdfplot.py:298: BehaviourChangeWarning: In future versions, if `eval_points` is not provided, then the ECDF will be evaluated at the unique values of the sample. To keep the current behavior, provide `eval_points` explicitly.\n",
      "  warnings.warn(\n"
     ]
    },
    {
     "data": {
      "image/png": "[encoded data removed]",
      "text/plain": [
       "<Figure size 1000x300 with 2 Axes>"
      ]
     },
     "metadata": {},
     "output_type": "display_data"
    }
   ],
   "source": [
    "pmb.plot_convergence(trace, var_name=\"mu\")\n",
    "plt.tight_layout()"
   ]
  },
  {
   "cell_type": "code",
   "execution_count": 237,
   "metadata": {},
   "outputs": [
    {
     "data": {
      "text/html": [
       "<div>\n",
       "<style scoped>\n",
       "    .dataframe tbody tr th:only-of-type {\n",
       "        vertical-align: middle;\n",
       "    }\n",
       "\n",
       "    .dataframe tbody tr th {\n",
       "        vertical-align: top;\n",
       "    }\n",
       "\n",
       "    .dataframe thead th {\n",
       "        text-align: right;\n",
       "    }\n",
       "</style>\n",
       "<table border=\"1\" class=\"dataframe\">\n",
       "  <thead>\n",
       "    <tr style=\"text-align: right;\">\n",
       "      <th></th>\n",
       "      <th>mean</th>\n",
       "      <th>sd</th>\n",
       "      <th>hdi_3%</th>\n",
       "      <th>hdi_97%</th>\n",
       "      <th>mcse_mean</th>\n",
       "      <th>mcse_sd</th>\n",
       "      <th>ess_bulk</th>\n",
       "      <th>ess_tail</th>\n",
       "      <th>r_hat</th>\n",
       "    </tr>\n",
       "  </thead>\n",
       "  <tbody>\n",
       "    <tr>\n",
       "      <th>mu[0]</th>\n",
       "      <td>4.335</td>\n",
       "      <td>0.865</td>\n",
       "      <td>2.697</td>\n",
       "      <td>5.944</td>\n",
       "      <td>0.037</td>\n",
       "      <td>0.019</td>\n",
       "      <td>536.0</td>\n",
       "      <td>1023.0</td>\n",
       "      <td>1.02</td>\n",
       "    </tr>\n",
       "    <tr>\n",
       "      <th>mu[1]</th>\n",
       "      <td>6.933</td>\n",
       "      <td>0.961</td>\n",
       "      <td>5.131</td>\n",
       "      <td>8.690</td>\n",
       "      <td>0.042</td>\n",
       "      <td>0.022</td>\n",
       "      <td>525.0</td>\n",
       "      <td>1067.0</td>\n",
       "      <td>1.00</td>\n",
       "    </tr>\n",
       "    <tr>\n",
       "      <th>mu[2]</th>\n",
       "      <td>7.413</td>\n",
       "      <td>1.043</td>\n",
       "      <td>5.410</td>\n",
       "      <td>9.295</td>\n",
       "      <td>0.043</td>\n",
       "      <td>0.024</td>\n",
       "      <td>582.0</td>\n",
       "      <td>1147.0</td>\n",
       "      <td>1.01</td>\n",
       "    </tr>\n",
       "    <tr>\n",
       "      <th>mu[3]</th>\n",
       "      <td>2.222</td>\n",
       "      <td>1.243</td>\n",
       "      <td>-0.226</td>\n",
       "      <td>4.399</td>\n",
       "      <td>0.207</td>\n",
       "      <td>0.038</td>\n",
       "      <td>36.0</td>\n",
       "      <td>117.0</td>\n",
       "      <td>1.10</td>\n",
       "    </tr>\n",
       "    <tr>\n",
       "      <th>mu[4]</th>\n",
       "      <td>1.021</td>\n",
       "      <td>0.949</td>\n",
       "      <td>-0.754</td>\n",
       "      <td>2.854</td>\n",
       "      <td>0.041</td>\n",
       "      <td>0.027</td>\n",
       "      <td>538.0</td>\n",
       "      <td>828.0</td>\n",
       "      <td>1.01</td>\n",
       "    </tr>\n",
       "    <tr>\n",
       "      <th>...</th>\n",
       "      <td>...</td>\n",
       "      <td>...</td>\n",
       "      <td>...</td>\n",
       "      <td>...</td>\n",
       "      <td>...</td>\n",
       "      <td>...</td>\n",
       "      <td>...</td>\n",
       "      <td>...</td>\n",
       "      <td>...</td>\n",
       "    </tr>\n",
       "    <tr>\n",
       "      <th>mu[4798]</th>\n",
       "      <td>6.938</td>\n",
       "      <td>0.982</td>\n",
       "      <td>5.054</td>\n",
       "      <td>8.750</td>\n",
       "      <td>0.043</td>\n",
       "      <td>0.027</td>\n",
       "      <td>535.0</td>\n",
       "      <td>701.0</td>\n",
       "      <td>1.02</td>\n",
       "    </tr>\n",
       "    <tr>\n",
       "      <th>mu[4799]</th>\n",
       "      <td>7.195</td>\n",
       "      <td>1.035</td>\n",
       "      <td>5.308</td>\n",
       "      <td>9.177</td>\n",
       "      <td>0.046</td>\n",
       "      <td>0.026</td>\n",
       "      <td>512.0</td>\n",
       "      <td>904.0</td>\n",
       "      <td>1.02</td>\n",
       "    </tr>\n",
       "    <tr>\n",
       "      <th>mu[4800]</th>\n",
       "      <td>4.684</td>\n",
       "      <td>1.059</td>\n",
       "      <td>2.770</td>\n",
       "      <td>6.692</td>\n",
       "      <td>0.045</td>\n",
       "      <td>0.024</td>\n",
       "      <td>549.0</td>\n",
       "      <td>985.0</td>\n",
       "      <td>1.02</td>\n",
       "    </tr>\n",
       "    <tr>\n",
       "      <th>mu[4801]</th>\n",
       "      <td>2.879</td>\n",
       "      <td>0.950</td>\n",
       "      <td>1.079</td>\n",
       "      <td>4.630</td>\n",
       "      <td>0.069</td>\n",
       "      <td>0.021</td>\n",
       "      <td>209.0</td>\n",
       "      <td>836.0</td>\n",
       "      <td>1.04</td>\n",
       "    </tr>\n",
       "    <tr>\n",
       "      <th>sigma</th>\n",
       "      <td>2.889</td>\n",
       "      <td>0.139</td>\n",
       "      <td>2.619</td>\n",
       "      <td>3.144</td>\n",
       "      <td>0.008</td>\n",
       "      <td>0.004</td>\n",
       "      <td>316.0</td>\n",
       "      <td>918.0</td>\n",
       "      <td>1.02</td>\n",
       "    </tr>\n",
       "  </tbody>\n",
       "</table>\n",
       "<p>4803 rows × 9 columns</p>\n",
       "</div>"
      ],
      "text/plain": [
       "           mean     sd  hdi_3%  hdi_97%  mcse_mean  mcse_sd  ess_bulk  \\\n",
       "mu[0]     4.335  0.865   2.697    5.944      0.037    0.019     536.0   \n",
       "mu[1]     6.933  0.961   5.131    8.690      0.042    0.022     525.0   \n",
       "mu[2]     7.413  1.043   5.410    9.295      0.043    0.024     582.0   \n",
       "mu[3]     2.222  1.243  -0.226    4.399      0.207    0.038      36.0   \n",
       "mu[4]     1.021  0.949  -0.754    2.854      0.041    0.027     538.0   \n",
       "...         ...    ...     ...      ...        ...      ...       ...   \n",
       "mu[4798]  6.938  0.982   5.054    8.750      0.043    0.027     535.0   \n",
       "mu[4799]  7.195  1.035   5.308    9.177      0.046    0.026     512.0   \n",
       "mu[4800]  4.684  1.059   2.770    6.692      0.045    0.024     549.0   \n",
       "mu[4801]  2.879  0.950   1.079    4.630      0.069    0.021     209.0   \n",
       "sigma     2.889  0.139   2.619    3.144      0.008    0.004     316.0   \n",
       "\n",
       "          ess_tail  r_hat  \n",
       "mu[0]       1023.0   1.02  \n",
       "mu[1]       1067.0   1.00  \n",
       "mu[2]       1147.0   1.01  \n",
       "mu[3]        117.0   1.10  \n",
       "mu[4]        828.0   1.01  \n",
       "...            ...    ...  \n",
       "mu[4798]     701.0   1.02  \n",
       "mu[4799]     904.0   1.02  \n",
       "mu[4800]     985.0   1.02  \n",
       "mu[4801]     836.0   1.04  \n",
       "sigma        918.0   1.02  \n",
       "\n",
       "[4803 rows x 9 columns]"
      ]
     },
     "execution_count": 237,
     "metadata": {},
     "output_type": "execute_result"
    }
   ],
   "source": [
    "az.summary(trace)"
   ]
  },
  {
   "cell_type": "code",
   "execution_count": 238,
   "metadata": {},
   "outputs": [
    {
     "name": "stderr",
     "output_type": "stream",
     "text": [
      "Sampling: [mu]\n"
     ]
    },
    {
     "data": {
      "application/vnd.jupyter.widget-view+json": {
       "model_id": "5bc6e02f9656432ea6b868beec15c346",
       "version_major": 2,
       "version_minor": 0
      },
      "text/plain": [
       "Output()"
      ]
     },
     "metadata": {},
     "output_type": "display_data"
    },
    {
     "data": {
      "text/html": [
       "<pre style=\"white-space:pre;overflow-x:auto;line-height:normal;font-family:Menlo,'DejaVu Sans Mono',consolas,'Courier New',monospace\"></pre>\n"
      ],
      "text/plain": []
     },
     "metadata": {},
     "output_type": "display_data"
    },
    {
     "name": "stderr",
     "output_type": "stream",
     "text": [
      "Sampling: [mu]\n"
     ]
    },
    {
     "data": {
      "application/vnd.jupyter.widget-view+json": {
       "model_id": "97a7d5f5158a4e5ba19130e1fe2e12cb",
       "version_major": 2,
       "version_minor": 0
      },
      "text/plain": [
       "Output()"
      ]
     },
     "metadata": {},
     "output_type": "display_data"
    },
    {
     "data": {
      "text/html": [
       "<pre style=\"white-space:pre;overflow-x:auto;line-height:normal;font-family:Menlo,'DejaVu Sans Mono',consolas,'Courier New',monospace\"></pre>\n"
      ],
      "text/plain": []
     },
     "metadata": {},
     "output_type": "display_data"
    }
   ],
   "source": [
    "# Sampleo posterior predictivo, para predecir la media de las respuestas (la observada y la contrafactual)\n",
    "# Sampleo ambos Z=1 y Z=0 en diferentes variables. Asigno Z=1 a tratamiento y Z=0 a control.\n",
    "\n",
    "with model1:\n",
    "\n",
    "    X_treated = pm.set_data({\"X_combined\": X_encoded.assign(treatment=1.0)})\n",
    "    mu_treated = pm.sample_posterior_predictive(trace, var_names=[\"mu\"])\n",
    "\n",
    "    X_control = pm.set_data({\"X_combined\": X_encoded.assign(treatment=0.0)})\n",
    "    mu_control = pm.sample_posterior_predictive(trace, var_names=[\"mu\"])"
   ]
  },
  {
   "cell_type": "code",
   "execution_count": 239,
   "metadata": {},
   "outputs": [],
   "source": [
    "pp_treated = az.extract(mu_treated.posterior_predictive)\n",
    "pp_control = az.extract(mu_control.posterior_predictive)"
   ]
  },
  {
   "cell_type": "code",
   "execution_count": 240,
   "metadata": {},
   "outputs": [
    {
     "data": {
      "text/html": [
       "<div>\n",
       "<style scoped>\n",
       "    .dataframe tbody tr th:only-of-type {\n",
       "        vertical-align: middle;\n",
       "    }\n",
       "\n",
       "    .dataframe tbody tr th {\n",
       "        vertical-align: top;\n",
       "    }\n",
       "\n",
       "    .dataframe thead th {\n",
       "        text-align: right;\n",
       "    }\n",
       "</style>\n",
       "<table border=\"1\" class=\"dataframe\">\n",
       "  <thead>\n",
       "    <tr style=\"text-align: right;\">\n",
       "      <th></th>\n",
       "      <th>z</th>\n",
       "      <th>y0</th>\n",
       "      <th>y1</th>\n",
       "      <th>mu0</th>\n",
       "      <th>mu1</th>\n",
       "    </tr>\n",
       "  </thead>\n",
       "  <tbody>\n",
       "    <tr>\n",
       "      <th>0</th>\n",
       "      <td>0</td>\n",
       "      <td>3.157727</td>\n",
       "      <td>7.441336</td>\n",
       "      <td>3.890563</td>\n",
       "      <td>5.716108</td>\n",
       "    </tr>\n",
       "    <tr>\n",
       "      <th>1</th>\n",
       "      <td>0</td>\n",
       "      <td>4.281244</td>\n",
       "      <td>8.937312</td>\n",
       "      <td>5.870844</td>\n",
       "      <td>8.913574</td>\n",
       "    </tr>\n",
       "    <tr>\n",
       "      <th>2</th>\n",
       "      <td>0</td>\n",
       "      <td>7.621447</td>\n",
       "      <td>8.919930</td>\n",
       "      <td>7.006040</td>\n",
       "      <td>10.022676</td>\n",
       "    </tr>\n",
       "    <tr>\n",
       "      <th>3</th>\n",
       "      <td>1</td>\n",
       "      <td>-1.828240</td>\n",
       "      <td>4.015639</td>\n",
       "      <td>-1.046089</td>\n",
       "      <td>2.952779</td>\n",
       "    </tr>\n",
       "    <tr>\n",
       "      <th>4</th>\n",
       "      <td>0</td>\n",
       "      <td>-0.240268</td>\n",
       "      <td>5.296278</td>\n",
       "      <td>-0.478072</td>\n",
       "      <td>6.246069</td>\n",
       "    </tr>\n",
       "  </tbody>\n",
       "</table>\n",
       "</div>"
      ],
      "text/plain": [
       "   z        y0        y1       mu0        mu1\n",
       "0  0  3.157727  7.441336  3.890563   5.716108\n",
       "1  0  4.281244  8.937312  5.870844   8.913574\n",
       "2  0  7.621447  8.919930  7.006040  10.022676\n",
       "3  1 -1.828240  4.015639 -1.046089   2.952779\n",
       "4  0 -0.240268  5.296278 -0.478072   6.246069"
      ]
     },
     "execution_count": 240,
     "metadata": {},
     "output_type": "execute_result"
    }
   ],
   "source": [
    "ground_truth = pd.read_csv(\"acic_challenge_2016/zymu_1.csv\")\n",
    "ground_truth.head()"
   ]
  },
  {
   "cell_type": "markdown",
   "metadata": {},
   "source": [
    "### Individual Trearment Effect (ITE)\n"
   ]
  },
  {
   "cell_type": "code",
   "execution_count": 245,
   "metadata": {},
   "outputs": [
    {
     "data": {
      "image/png": "[encoded data removed]",
      "text/plain": [
       "<Figure size 2100x500 with 3 Axes>"
      ]
     },
     "metadata": {},
     "output_type": "display_data"
    }
   ],
   "source": [
    "m = np.random.randint(0, X.shape[0])\n",
    "\n",
    "\n",
    "fig, axs = plt.subplots(1, 3, figsize=(21, 5))\n",
    "\n",
    "# ax0, P(Y_m|Z=0, X_m)\n",
    "axs[0].set_title(f\"Control Group: $P(Y_m|Z=0, X_m, D)$\")\n",
    "axs[0].hist(\n",
    "    pp_control[\"mu\"].values[m, :],\n",
    "    bins=50,\n",
    "    density=True,\n",
    "    color=\"blue\",\n",
    "    alpha=0.5,\n",
    "    label=\"$P(Y_m|Z=0, X_m, D)$\",\n",
    ")\n",
    "axs[0].axvline(\n",
    "    np.mean(pp_control[\"mu\"].values[m, :]),\n",
    "    color=\"Blue\",\n",
    "    linestyle=\"--\",\n",
    "    alpha=1,\n",
    "    label=\"Mean $P(Y_m|Z=0, X_m, D)$\",\n",
    ")\n",
    "axs[0].axvline(\n",
    "    ground_truth[\"mu0\"][m],\n",
    "    color=\"BLACK\",\n",
    "    linestyle=\"--\",\n",
    "    alpha=1,\n",
    "    label=\"Ground Truth $mu_0$\",\n",
    ")\n",
    "\n",
    "if z[m] == 0:\n",
    "    axs[0].axvline(y[m], color=\"red\", linestyle=\"--\", label=\"Observed\")\n",
    "\n",
    "# ax1, P(Y_m|Z=1, X_m)\n",
    "axs[1].set_title(f\"Treatment Group: $P(Y_m|Z=1, X_m, D)$\")\n",
    "axs[1].hist(\n",
    "    pp_treated[\"mu\"].values[m, :],\n",
    "    bins=50,\n",
    "    density=True,\n",
    "    color=\"orange\",\n",
    "    alpha=0.5,\n",
    "    label=\"$P(Y_m|Z=1, X_m, D)$\",\n",
    ")\n",
    "axs[1].axvline(\n",
    "    np.mean(pp_treated[\"mu\"].values[m, :]),\n",
    "    color=\"orange\",\n",
    "    linestyle=\"--\",\n",
    "    alpha=1,\n",
    "    label=\"Mean $P(Y_m|Z=1, X_m, D)$\",\n",
    ")\n",
    "axs[1].axvline(\n",
    "    ground_truth[\"mu1\"][m],\n",
    "    color=\"BLACK\",\n",
    "    linestyle=\"--\",\n",
    "    alpha=1,\n",
    "    label=\"Ground Truth $mu_1$\",\n",
    ")\n",
    "\n",
    "if z[m] == 1:\n",
    "    axs[1].axvline(y[m], color=\"red\", linestyle=\"--\", label=\"Observed\")\n",
    "\n",
    "# ax2, ITE = P(Y_m|Z=1, X_m) - P(Y_m|Z=0, X_m)\n",
    "axs[2].set_title(f\"ITE: $P(Y_m|Z=1, X_m, D) - P(Y_m|Z=0, X_m, D)$\")\n",
    "axs[2].hist(\n",
    "    pp_treated[\"mu\"].values[m, :] - pp_control[\"mu\"].values[m, :],\n",
    "    bins=50,\n",
    "    density=True,\n",
    "    color=\"green\",\n",
    "    alpha=0.5,\n",
    "    label=\"ITE\",\n",
    ")\n",
    "axs[2].axvline(\n",
    "    np.mean(pp_treated[\"mu\"].values[m, :] - pp_control[\"mu\"].values[m, :]),\n",
    "    color=\"green\",\n",
    "    linestyle=\"--\",\n",
    "    alpha=1,\n",
    "    label=\"Mean $ITE$\",\n",
    ")\n",
    "axs[2].axvline(\n",
    "    ground_truth[\"mu1\"][m] - ground_truth[\"mu0\"][m],\n",
    "    color=\"BLACK\",\n",
    "    linestyle=\"--\",\n",
    "    alpha=1,\n",
    "    label=\"Ground Truth ITE\",\n",
    ")\n",
    "\n",
    "\n",
    "for ax in axs:\n",
    "    ax.legend()\n",
    "    ax.set_xlabel(\"Y_m\")\n",
    "    ax.set_ylabel(\"Density\")\n",
    "\n",
    "plt.suptitle(f\"Treatment response for individual {m}\", fontsize=16)\n",
    "\n",
    "plt.tight_layout()"
   ]
  },
  {
   "cell_type": "markdown",
   "metadata": {},
   "source": [
    "### Sample Average Treatment Effect (SATE)\n"
   ]
  },
  {
   "cell_type": "code",
   "execution_count": 250,
   "metadata": {},
   "outputs": [],
   "source": [
    "pp_sate = (pp_treated - pp_control).mean(dim=\"mu_dim_0\")\n",
    "\n",
    "sate_samples = pp_sate[\"mu\"].values"
   ]
  },
  {
   "cell_type": "code",
   "execution_count": null,
   "metadata": {},
   "outputs": [
    {
     "data": {
      "image/png": "[encoded data removed]",
      "text/plain": [
       "<Figure size 800x600 with 1 Axes>"
      ]
     },
     "metadata": {},
     "output_type": "display_data"
    }
   ],
   "source": [
    "hdi_bounds = az.hdi(sate_samples, hdi_prob=0.95)\n",
    "\n",
    "plt.figure(figsize=(8, 6))\n",
    "plt.hist(\n",
    "    sate_samples,\n",
    "    bins=50,\n",
    "    density=True,\n",
    "    alpha=0.7,\n",
    "    color=\"skyblue\",\n",
    "    label=\"SATE Samples\",\n",
    ")\n",
    "plt.axvline(\n",
    "    hdi_bounds[0],\n",
    "    color=\"red\",\n",
    "    linestyle=\"--\",\n",
    "    label=f\"95% HDI Lower: {hdi_bounds[0]:.2f}\",\n",
    ")\n",
    "plt.axvline(\n",
    "    hdi_bounds[1],\n",
    "    color=\"green\",\n",
    "    linestyle=\"--\",\n",
    "    label=f\"95% HDI Upper: {hdi_bounds[1]:.2f}\",\n",
    ")\n",
    "plt.axvline(\n",
    "    sate_samples.mean(),\n",
    "    color=\"black\",\n",
    "    linestyle=\"-\",\n",
    "    label=f\"Mean: {sate_samples.mean():.2f}\",\n",
    ")\n",
    "\n",
    "\n",
    "plt.title(\"Histogram of SATE Samples with 95% HDI\")\n",
    "plt.xlabel(\"SATE\")\n",
    "plt.ylabel(\"Density\")\n",
    "plt.legend()\n",
    "plt.tight_layout()\n",
    "plt.show()"
   ]
  },
  {
   "cell_type": "markdown",
   "metadata": {},
   "source": [
    "#ATT\n"
   ]
  }
 ],
 "metadata": {
  "kernelspec": {
   "display_name": "base",
   "language": "python",
   "name": "python3"
  },
  "language_info": {
   "codemirror_mode": {
    "name": "ipython",
    "version": 3
   },
   "file_extension": ".py",
   "mimetype": "text/x-python",
   "name": "python",
   "nbconvert_exporter": "python",
   "pygments_lexer": "ipython3",
   "version": "3.12.3"
  }
 },
 "nbformat": 4,
 "nbformat_minor": 2
}
